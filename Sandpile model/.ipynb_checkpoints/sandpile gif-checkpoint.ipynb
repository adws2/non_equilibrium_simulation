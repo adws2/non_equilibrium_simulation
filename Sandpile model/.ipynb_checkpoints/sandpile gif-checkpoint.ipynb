{
 "cells": [
  {
   "cell_type": "code",
   "execution_count": 3,
   "id": "33cfee5f",
   "metadata": {},
   "outputs": [],
   "source": [
    "import numpy as np\n",
    "import matplotlib.pyplot as plt\n",
    "import matplotlib as mpl\n",
    "import time as tm\n",
    "import imageio\n",
    "from numpy.random import rand\n",
    "import os\n",
    "from matplotlib import cm\n",
    "import matplotlib.colors"
   ]
  },
  {
   "cell_type": "code",
   "execution_count": 4,
   "id": "63acd18e",
   "metadata": {},
   "outputs": [],
   "source": [
    "def img_file_to_gif(img_files, output_file_name):\n",
    "    imgs_array = [np.array(imageio.imread(img_file)) for img_file in img_file_lst]\n",
    "    imageio.mimsave(output_file_name, imgs_array, duration=0.1)"
   ]
  },
  {
   "cell_type": "code",
   "execution_count": 5,
   "id": "a16b2a02",
   "metadata": {},
   "outputs": [],
   "source": [
    "## pbc 없는 버전 \n",
    "img_file_lst = []\n",
    "N = 50\n",
    "X = np.random.choice((0,1,2,3),size = (N+2,N+2))\n",
    "T = np.arange(1000)\n",
    "q = 0\n",
    "\n",
    "colors = ['black', 'green', 'purple','gold','red']\n",
    "boundaries = np.arange(0,6)\n",
    "cmap = matplotlib.colors.ListedColormap(colors)\n",
    "norm = matplotlib.colors.BoundaryNorm(boundaries, len(colors))\n",
    "\n",
    "\n",
    "for t in T:\n",
    "    q+=1\n",
    "    i,j = np.random.choice(N,size = 2,replace = False)\n",
    "    X[i,j] += 1\n",
    "    X[:,-1] , X[:,0], X[0,:], X[-1,:] = 0,0,0,0\n",
    "\n",
    "    \n",
    "    while np.any(X[1:N+1,1:N+1]>=4):\n",
    "        q+=1 \n",
    "        I,J = np.where(X[1:N+1,1:N+1]>=4)\n",
    "        if t>900:\n",
    "          plt.imshow(X, cmap=cmap, norm=norm)\n",
    "          plt.xlim(1,N-1)\n",
    "          plt.ylim(1,N-1)\n",
    "          plt.colorbar()\n",
    "          output_img_file_name = 'save/sandpile_t_{0}.png'.format(q)\n",
    "          img_file_lst.append(output_img_file_name)\n",
    "          plt.savefig(output_img_file_name)\n",
    "          plt.close()\n",
    "\n",
    "\n",
    "        X[I+1,J+1] = 0\n",
    "        X[(I+2)%N,J] += 1\n",
    "        X[(I)%N,J] += 1\n",
    "        X[I,(J+2)%N] += 1\n",
    "        X[I,(J)%N] += 1\n",
    "        \n",
    "\n",
    "    if t>900:\n",
    "      plt.imshow(X, cmap=cmap, norm=norm)\n",
    "      plt.xlim(1,N-1)\n",
    "      plt.ylim(1,N-1)\n",
    "      plt.colorbar()\n",
    "      output_img_file_name = 'save/sandpile_t_{0}.png'.format(q)\n",
    "      img_file_lst.append(output_img_file_name)\n",
    "      plt.savefig(output_img_file_name)\n",
    "      plt.close()\n",
    "        \n",
    "        \n",
    "img_file_to_gif(img_file_lst, \"save/sandpile.gif\")\n",
    "\n",
    "for img_file in img_file_lst:\n",
    "    if os.path.exists(img_file):\n",
    "        os.remove(img_file)\n",
    "        "
   ]
  }
 ],
 "metadata": {
  "kernelspec": {
   "display_name": "Python 3 (ipykernel)",
   "language": "python",
   "name": "python3"
  },
  "language_info": {
   "codemirror_mode": {
    "name": "ipython",
    "version": 3
   },
   "file_extension": ".py",
   "mimetype": "text/x-python",
   "name": "python",
   "nbconvert_exporter": "python",
   "pygments_lexer": "ipython3",
   "version": "3.9.6"
  }
 },
 "nbformat": 4,
 "nbformat_minor": 5
}
