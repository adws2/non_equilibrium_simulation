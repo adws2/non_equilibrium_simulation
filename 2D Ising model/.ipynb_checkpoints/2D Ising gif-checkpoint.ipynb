{
 "cells": [
  {
   "cell_type": "code",
   "execution_count": 1,
   "id": "7b4a4667",
   "metadata": {},
   "outputs": [],
   "source": [
    "import numpy as np\n",
    "import matplotlib.pyplot as plt\n",
    "from numpy.random import rand\n",
    "import pickle as pk\n",
    "import time\n",
    "import os\n",
    "import imageio\n",
    "from numpy.random import rand\n",
    "import os"
   ]
  },
  {
   "cell_type": "code",
   "execution_count": 2,
   "id": "a0751d73",
   "metadata": {},
   "outputs": [],
   "source": [
    "def metropolis(config,T): # config 를 온도 T에 맞춤 : external field = 0 \n",
    "    N = len(config)\n",
    "    for i in range(N):\n",
    "        for j in range(N):\n",
    "            dE=2.*config[i,j]*(config[(i-1)%N,j%N]+config[(i+1)%N,j%N]+config[i%N,(j+1)%N]+config[i%N,(j-1)%N])\n",
    "            if dE<0.:\n",
    "                config[i,j]=-config[i,j]\n",
    "            elif rand()<np.exp(-dE/T):\n",
    "                config[i,j]=-config[i,j]\n",
    "    return config\n",
    "\n",
    "def img_file_to_gif(img_files, output_file_name):\n",
    "    imgs_array = [np.array(imageio.imread(img_file)) for img_file in img_file_lst]\n",
    "    imageio.mimsave(output_file_name, imgs_array, duration=0.1)"
   ]
  },
  {
   "cell_type": "code",
   "execution_count": 6,
   "id": "aa5b54a5",
   "metadata": {},
   "outputs": [],
   "source": [
    "# 기본\n",
    "img_file_lst = []\n",
    "N_arr = [100]\n",
    "T=np.arange(2.6,2.0,-0.02)\n",
    "ens = 1\n",
    "\n",
    "eq_T=0\n",
    "save_T=10\n",
    "\n",
    "\n",
    "\n",
    "for n,N in enumerate(N_arr):\n",
    "    for en in range(ens):\n",
    "        config = np.random.choice((-1,1),size = (N,N))\n",
    "        \n",
    "        for i,t in enumerate(T):\n",
    "\n",
    "            for j in range(save_T):# clac- time\n",
    "                config  = metropolis(config,t)\n",
    "            plt.title('save/2d ising %f'%t)\n",
    "            plt.imshow(config)\n",
    "\n",
    "            output_img_file_name = 'save/2dising_{0}.png'.format(t)\n",
    "            img_file_lst.append(output_img_file_name)\n",
    "            plt.savefig(output_img_file_name)\n",
    "            plt.close()\n",
    "\n",
    "img_file_to_gif(img_file_lst, \"save/2d ising.gif\")\n",
    "\n",
    "for img_file in img_file_lst:\n",
    "    if os.path.exists(img_file):\n",
    "        os.remove(img_file)\n",
    "        "
   ]
  },
  {
   "cell_type": "code",
   "execution_count": null,
   "id": "34c26ce3",
   "metadata": {},
   "outputs": [],
   "source": []
  }
 ],
 "metadata": {
  "kernelspec": {
   "display_name": "Python 3 (ipykernel)",
   "language": "python",
   "name": "python3"
  },
  "language_info": {
   "codemirror_mode": {
    "name": "ipython",
    "version": 3
   },
   "file_extension": ".py",
   "mimetype": "text/x-python",
   "name": "python",
   "nbconvert_exporter": "python",
   "pygments_lexer": "ipython3",
   "version": "3.9.6"
  }
 },
 "nbformat": 4,
 "nbformat_minor": 5
}
